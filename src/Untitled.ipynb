{
 "cells": [
  {
   "cell_type": "code",
   "execution_count": 40,
   "id": "74eb7067",
   "metadata": {},
   "outputs": [],
   "source": [
    "import numpy as np\n",
    "import scipy as sp\n",
    "import seaborn as sns\n",
    "sns.set()\n",
    "\n",
    "def simulate(θ_true, T):\n",
    "    \n",
    "    Azo = θ_true[0]; Azz = θ_true[1]; Bz = θ_true[2]\n",
    "    Aso = θ_true[3]; Ass = θ_true[4]; Bs = θ_true[5]\n",
    "    \n",
    "    Z01 = 12 \n",
    "    Z02 = Azo[1,0]/(1-Azz[1,1])\n",
    "    S0 = sp.linalg.solve((np.eye(3) - Ass), Aso)\n",
    "\n",
    "    Z = np.zeros((2,T+1)) \n",
    "    S = np.zeros((3,T+1)) \n",
    "    Z[:,[0]] = np.array([[Z01],[Z02]])\n",
    "    S[:,[0]] = S0\n",
    "\n",
    "    np.random.seed(0)\n",
    "    Wz = np.random.multivariate_normal(np.zeros(2), np.eye(2), T+1).T\n",
    "    Ws = np.random.multivariate_normal(np.zeros(3), np.eye(3), T+1).T\n",
    "\n",
    "    for t in range(T):\n",
    "        Z[:,[t+1]] = Azo + Azz @ Z[:,[t]] + Bz @ Wz[:,[t+1]]\n",
    "        S[:,[t+1]] = Aso + Ass @ S[:,[t]] + Bs @ Ws[:,[t+1]]\n",
    "\n",
    "    D = np.ones((3,1)) @ Z[[0],:] + S\n",
    "    \n",
    "    return D"
   ]
  },
  {
   "cell_type": "code",
   "execution_count": 41,
   "id": "777ff0a7",
   "metadata": {},
   "outputs": [],
   "source": [
    "Azo = np.array([[0],[0.000733]])\n",
    "Azz = np.array([[1, 1], [0, 0.860426]])\n",
    "Bz = np.array([[-0.004199,0],[0,-0.001275]])\n",
    "Aso = np.array([[0],[-0.293289],[-0.736754]])\n",
    "Ass = np.array([[0.991918,0.004933,-0.000278],[-0.131788, 1.026383, -0.049139],[-0.412880, 0.119104, 0.868251]])\n",
    "Bs = np.array([[0.000823, 0,0],[0.033262, 0.001852, 0],[0.002681,-0.022632,0.030208]])"
   ]
  },
  {
   "cell_type": "code",
   "execution_count": 42,
   "id": "17248186",
   "metadata": {},
   "outputs": [],
   "source": [
    "θ_true = [Azo, Azz, Bz, Aso, Ass, Bs]"
   ]
  },
  {
   "cell_type": "code",
   "execution_count": 46,
   "id": "a2c9ff66",
   "metadata": {},
   "outputs": [],
   "source": [
    "data = simulate(θ_true, 282)\n",
    "np.savetxt(\"data.csv\", data, delimiter=\",\")"
   ]
  },
  {
   "cell_type": "code",
   "execution_count": 68,
   "id": "ba423c40",
   "metadata": {},
   "outputs": [],
   "source": [
    "import os\n",
    "import pandas as pd\n",
    "workdir = os.path.dirname(os.getcwd())\n",
    "srcdir = os.getcwd()\n",
    "datadir = workdir + '/data/'\n",
    "outputdir = '/project2/lhansen/pf_ms2/'\n",
    "\n",
    "seed = 0\n",
    "\n",
    "obs_series = pd.read_csv(datadir + 'data.csv', delimiter=',', header = None)\n",
    "obs_series = np.array(obs_series)"
   ]
  },
  {
   "cell_type": "code",
   "execution_count": 70,
   "id": "a652c57a",
   "metadata": {},
   "outputs": [
    {
     "data": {
      "text/plain": [
       "(3, 283)"
      ]
     },
     "execution_count": 70,
     "metadata": {},
     "output_type": "execute_result"
    }
   ],
   "source": [
    "obs_series.shape"
   ]
  },
  {
   "cell_type": "code",
   "execution_count": 72,
   "id": "e25bd612",
   "metadata": {},
   "outputs": [
    {
     "name": "stdout",
     "output_type": "stream",
     "text": [
      "150\n"
     ]
    }
   ],
   "source": [
    "for i in (range(150,151)):\n",
    "    print(i)"
   ]
  },
  {
   "cell_type": "code",
   "execution_count": null,
   "id": "3488948e",
   "metadata": {},
   "outputs": [],
   "source": []
  }
 ],
 "metadata": {
  "kernelspec": {
   "display_name": "Python 3 (ipykernel)",
   "language": "python",
   "name": "python3"
  },
  "language_info": {
   "codemirror_mode": {
    "name": "ipython",
    "version": 3
   },
   "file_extension": ".py",
   "mimetype": "text/x-python",
   "name": "python",
   "nbconvert_exporter": "python",
   "pygments_lexer": "ipython3",
   "version": "3.9.12"
  }
 },
 "nbformat": 4,
 "nbformat_minor": 5
}
